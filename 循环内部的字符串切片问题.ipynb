{
 "cells": [
  {
   "cell_type": "markdown",
   "metadata": {},
   "source": [
    "## 循环内部 字符串切片判断失效的问题"
   ]
  },
  {
   "cell_type": "code",
   "execution_count": 4,
   "metadata": {},
   "outputs": [],
   "source": [
    "class Solution(object):\n",
    "    def lengthOfLongestSubstring(self, s):\n",
    "        \"\"\"\n",
    "        :type s: str\n",
    "        :rtype: int\n",
    "        \"\"\"\n",
    "        left = 0\n",
    "        right = 1\n",
    "        lenth = len(s) - 1\n",
    "        max_lenth = 0\n",
    "        while right + max_lenth <= lenth:\n",
    "            # print(max)\n",
    "            print(left, right, s[right], s[left:right], s[right] in s[lenth: right], 'a' in 'abc', type('a'))\n",
    "            \n",
    "            if s[right] in s[lenth: right]:\n",
    "                left = right\n",
    "                right = right + 1\n",
    "            else:\n",
    "                max_lenth = right - left\n",
    "                right += 1\n",
    "        return max_lenth"
   ]
  },
  {
   "cell_type": "code",
   "execution_count": 5,
   "metadata": {},
   "outputs": [],
   "source": [
    "a = Solution()"
   ]
  },
  {
   "cell_type": "code",
   "execution_count": 6,
   "metadata": {},
   "outputs": [
    {
     "name": "stdout",
     "output_type": "stream",
     "text": [
      "0 1 b a False True <class 'str'>\n",
      "0 2 c ab False True <class 'str'>\n",
      "0 3 a abc False True <class 'str'>\n",
      "0 4 b abca False True <class 'str'>\n"
     ]
    },
    {
     "data": {
      "text/plain": [
       "4"
      ]
     },
     "execution_count": 6,
     "metadata": {},
     "output_type": "execute_result"
    }
   ],
   "source": [
    "a.lengthOfLongestSubstring(\"abcabcbb\")"
   ]
  },
  {
   "cell_type": "markdown",
   "metadata": {},
   "source": [
    "### 结果第三行 第一个布尔型应该为True "
   ]
  },
  {
   "cell_type": "markdown",
   "metadata": {},
   "source": [
    "## 解决方案"
   ]
  },
  {
   "cell_type": "code",
   "execution_count": 22,
   "metadata": {},
   "outputs": [],
   "source": [
    "class Solution(object):\n",
    "    def lengthOfLongestSubstring(self, s):\n",
    "        \"\"\"\n",
    "        :type s: str\n",
    "        :rtype: int\n",
    "        \"\"\"\n",
    "        left = 0\n",
    "        right = 1\n",
    "        lenth = len(s)\n",
    "        max_lenth = 1\n",
    "        if not s:\n",
    "            return(0)\n",
    "        while right < lenth:\n",
    "            # print(max_lenth)\n",
    "            \n",
    "            a = s[right]\n",
    "            b = s[left:right]\n",
    "            print(left, right, s[right], s[left:right], a in b)\n",
    "            if a in b:\n",
    "                left = left + 1\n",
    "                right = right\n",
    "            else:\n",
    "                _lenth = right - left + 1\n",
    "                if _lenth > max_lenth:\n",
    "                    max_lenth = _lenth\n",
    "                right += 1\n",
    "        return max_lenth"
   ]
  },
  {
   "cell_type": "code",
   "execution_count": 23,
   "metadata": {},
   "outputs": [],
   "source": [
    "a = Solution()"
   ]
  },
  {
   "cell_type": "code",
   "execution_count": 24,
   "metadata": {},
   "outputs": [
    {
     "name": "stdout",
     "output_type": "stream",
     "text": [
      "0 1 b a False\n",
      "0 2 c ab False\n",
      "0 3 a abc True\n",
      "1 3 a bc False\n",
      "1 4 b bca True\n",
      "2 4 b ca False\n",
      "2 5 c cab True\n",
      "3 5 c ab False\n",
      "3 6 b abc True\n",
      "4 6 b bc True\n",
      "5 6 b c False\n",
      "5 7 b cb True\n",
      "6 7 b b True\n",
      "7 7 b  False\n"
     ]
    },
    {
     "data": {
      "text/plain": [
       "3"
      ]
     },
     "execution_count": 24,
     "metadata": {},
     "output_type": "execute_result"
    }
   ],
   "source": [
    "a.lengthOfLongestSubstring(\"abcabcbb\")"
   ]
  },
  {
   "cell_type": "code",
   "execution_count": null,
   "metadata": {},
   "outputs": [],
   "source": []
  }
 ],
 "metadata": {
  "kernelspec": {
   "display_name": "Python 3",
   "language": "python",
   "name": "python3"
  },
  "language_info": {
   "codemirror_mode": {
    "name": "ipython",
    "version": 3
   },
   "file_extension": ".py",
   "mimetype": "text/x-python",
   "name": "python",
   "nbconvert_exporter": "python",
   "pygments_lexer": "ipython3",
   "version": "3.7.6"
  }
 },
 "nbformat": 4,
 "nbformat_minor": 4
}
